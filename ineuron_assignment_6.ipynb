{
 "cells": [
  {
   "cell_type": "markdown",
   "id": "3553893d",
   "metadata": {},
   "source": [
    "# Assignment 6"
   ]
  },
  {
   "cell_type": "markdown",
   "id": "fddccf8d",
   "metadata": {},
   "source": [
    "Q.1. What are keywords in python? Using the keyword library, print all the python keywords."
   ]
  },
  {
   "cell_type": "raw",
   "id": "ff6fef84",
   "metadata": {},
   "source": [
    "Ans: \n",
    "\n",
    "Keywords in Python are reserved words that have a predefined meaning and cannot be used as identifiers (variable names, function names, etc.). These keywords are used to define the syntax and structure of the Python language.\n",
    "\n",
    "Below is the code for printing all keywords."
   ]
  },
  {
   "cell_type": "code",
   "execution_count": 4,
   "id": "62c4fb9b",
   "metadata": {},
   "outputs": [
    {
     "name": "stdout",
     "output_type": "stream",
     "text": [
      "['False', 'None', 'True', 'and', 'as', 'assert', 'async', 'await', 'break', 'class', 'continue', 'def', 'del', 'elif', 'else', 'except', 'finally', 'for', 'from', 'global', 'if', 'import', 'in', 'is', 'lambda', 'nonlocal', 'not', 'or', 'pass', 'raise', 'return', 'try', 'while', 'with', 'yield']\n"
     ]
    }
   ],
   "source": [
    "import keyword\n",
    "print(keyword.kwlist)"
   ]
  },
  {
   "cell_type": "markdown",
   "id": "b0952f2d",
   "metadata": {},
   "source": [
    "Q.2. What are the rules to create variables in python?"
   ]
  },
  {
   "cell_type": "markdown",
   "id": "2c59f046",
   "metadata": {},
   "source": [
    "Ans: \n",
    "\n",
    "In Python, variables are used to store values and provide a way to access and manipulate data. Here are the rules to create variables in Python:\n",
    "\n",
    "\n",
    "Variable names must start with a letter (a-z, A-Z) or an underscore (_).\n",
    "\n",
    "The first character can be followed by letters, underscores, or digits (0-9).\n",
    "Variable names are case-sensitive, so myVariable and myvariable are considered different variables.\n",
    "\n",
    "Reserved keywords cannot be used as as variable names. For example, if, while, for, etc., are reserved keywords and cannot be used as variable names.\n",
    "\n",
    "Other than the reserved keywords, it is also important not to use the built-in functions as variable names as they may cause errors in the program.\n",
    "\n",
    "The naming convention should follow best practices as python is case sensitive. Though not mandatory, it will be better to use\n",
    "lower case names for variables and user defined functions to avoid conflict and errors.\n",
    "\n",
    "For example, variable_1, user_name, count_of_person etc."
   ]
  },
  {
   "cell_type": "markdown",
   "id": "09bf1af0",
   "metadata": {},
   "source": [
    "Q.3. What are the standards and conventions followed for the nomenclature of variables in\n",
    "python to improve code readability and maintainability?"
   ]
  },
  {
   "cell_type": "raw",
   "id": "9e04d6df",
   "metadata": {},
   "source": [
    "Ans: \n",
    "\n",
    "In Python, there are established standards and conventions for variable naming that help improve code readability and maintainability. The most widely followed convention is outlined in Python Enhancement Proposal 8 (PEP 8), which provides guidelines for writing Python code.\n",
    "\n",
    "Variable names should be clear and describe the purpose or content of the variable.\n",
    " Single-character variable names (except for simple loop counters) could be avoided.\n",
    "Instead, names that convey the meaning of the data being assigned should be used.\n",
    "Lowercase letters with underscores (snake_case) should be used.\n",
    "\n",
    "for example user_name, roll_num, age etc.\n",
    "\n",
    "Variable names should be written in lowercase letters.\n",
    "If a variable name consists of multiple words, separate them with underscores (_).\n",
    "This convention improves readability and distinguishes variable names from class names.\n",
    "\n",
    "A single leading underscore (_) indicates a weak \"internal use\" indicator.\n",
    "It suggests that the variable is intended for internal use within a class or module.\n",
    "It is a convention, not enforced by the Python interpreter.\n",
    "Constants in uppercase letters:\n",
    "\n",
    "If a variable represents a constant value that should not be modified, it should be assigned in uppercase letters.\n",
    "Separate words with underscores (_) for readability.\n",
    "\n"
   ]
  },
  {
   "cell_type": "markdown",
   "id": "0e0df3c7",
   "metadata": {},
   "source": [
    "Q.4. What will happen if a keyword is used as a variable name?"
   ]
  },
  {
   "cell_type": "raw",
   "id": "d12a9937",
   "metadata": {},
   "source": [
    "Ans: \n",
    "    \n",
    "If we try to use a keyword as a variable name, we will get a syntax error as the interpretor will try to use the keyword in its intended form and will not be able to assign it as a variable. For example in the below code, we try to assing the keyword while as a variable and as soon as we try to run it and error is thrown.\n",
    "\n",
    "while = 1\n",
    "\n",
    "Cell In[5], line 1\n",
    "    while = 1\n",
    "          ^\n",
    "SyntaxError: invalid syntax"
   ]
  },
  {
   "cell_type": "markdown",
   "id": "e0ef7f68",
   "metadata": {},
   "source": [
    "Q.5. For what purpose def keyword is used?"
   ]
  },
  {
   "cell_type": "raw",
   "id": "16e1046f",
   "metadata": {},
   "source": [
    "Ans: \n",
    "\n",
    "The def keyword in Python is used to define a function. Functions are reusable blocks of code that perform specific tasks. They encapsulate a set of instructions and can be called multiple times throughout a program, allowing for modular and organized code structure.\n",
    "\n",
    "Below is the syntax of a function definition in Python:\n",
    "\n",
    "def function(parameters):\n",
    "    \n",
    "def: This keyword signals the start of a function definition.\n",
    "\n",
    "function: This is the identifier or name given to the function. Choose a meaningful name that describes the purpose of the function.\n",
    "\n",
    "parameters: These are optional inputs to the function. They are placeholders for values that can be passed to the function when it is called. Parameters are enclosed in parentheses and separated by commas.\n",
    "\n",
    "Function body: This is the block of code that defines what the function does. It consists of one or more statements indented under the function definition line. It may include variable assignments, conditional statements, loops, and other Python code.\n",
    "\n",
    "return statement (optional): A function can have a return statement to specify the value it should return when called. This statement is used to exit the function and return a value back to the caller."
   ]
  },
  {
   "cell_type": "markdown",
   "id": "d22b7298",
   "metadata": {},
   "source": [
    "Q.6. What is the operation of this special character ‘\\’?"
   ]
  },
  {
   "cell_type": "raw",
   "id": "ca6f2a83",
   "metadata": {},
   "source": [
    "Ans: \n",
    "The special character \\ in Python is called the backslash or escape character. It serves several purposes and is used for different operations:\n",
    "\n",
    "Escape sequences: The backslash is used to create escape sequences in strings. An escape sequence is a combination of the backslash and another character that represents a special character or a control sequence. Some commonly used escape sequences include:\n",
    "\n",
    "\\': Single quote\n",
    "\\\": Double quote\n",
    "\\\\: Backslash\n",
    "\\n: Newline\n",
    "\\t: Tab\n",
    "\\r: Carriage return\n",
    "\\b: Backspace\n",
    "\\f: Form feed\n",
    "\\ooo: Octal value (where ooo is a three-digit octal number)\n",
    "\\xhh: Hexadecimal value (where hh is a two-digit hexadecimal number)\n",
    "\n",
    "These escape sequences are used to include special characters or control sequences within strings that would otherwise be difficult to represent directly.\n",
    "\n",
    "Line continuation: The backslash is used as a line continuation character to split long lines of code into multiple lines for better readability. By placing a backslash at the end of a line, the text string can be printed in the line below.\n",
    "\n",
    "string1 = \"This is a very long string that requires \\\n",
    "               multiple lines for better readability.\"\n",
    "               \n",
    "In this example, the backslash at the end of the first line indicates that the string continues on the next line. The actual string does not contain the backslash or the line break.\n",
    "\n",
    "Special characters: The backslash is used to include special characters within string literals. For example, to include a newline character within a string, you can use the escape sequence \\n.\n",
    "\n"
   ]
  },
  {
   "cell_type": "markdown",
   "id": "67b8ad64",
   "metadata": {},
   "source": [
    "Q.7. Give an example of the following conditions:\n",
    "\n",
    "(i) Homogeneous list\n",
    "\n",
    "(ii) Heterogeneous set\n",
    "\n",
    "(iii) Homogeneous tuple"
   ]
  },
  {
   "cell_type": "raw",
   "id": "586a3aa8",
   "metadata": {},
   "source": [
    "Ans: \n",
    "Below are the examples.\n",
    "\n",
    "(i) Homogeneous list:\n",
    "A homogeneous list in Python is a list where all the elements have the same data type. Below is an example of a homogeneous list of integers. The elements of the homogenous_list are integers.\n",
    "\n",
    "\n",
    "homogenous_list = [1, 2, 3, 4, 5]\n",
    "\n",
    "\n",
    "(ii) Heterogeneous set:\n",
    "A heterogeneous set in Python is a set where the elements can have different data types. Below is an example.\n",
    "The below set heterogeneous_set contains elements of different data types, including an integer, a string, a floating-point number, and a boolean.\n",
    "\n",
    "\n",
    "heterogeneous_set = {1, \"hello\", 3.14, True}\n",
    "\n",
    "\n",
    "(iii) Homogeneous tuple:\n",
    "A homogeneous tuple in Python is a tuple where all the elements have the same data type. Below is an example of a homogeneous tuple of strings. All the elements of the homogenous_tuple are strings\n",
    "\n",
    "homogenous_tuple = (\"apple\", \"banana\", \"orange\")\n",
    "\n"
   ]
  },
  {
   "cell_type": "markdown",
   "id": "c568f14b",
   "metadata": {},
   "source": [
    "Q.8. Explain the mutable and immutable data types with proper explanation & examples"
   ]
  },
  {
   "cell_type": "raw",
   "id": "11dbc311",
   "metadata": {},
   "source": [
    "Ans: \n",
    "\n",
    "The distinction between mutable and immutable data types impacts how data is manipulated, passed between functions, and stored in data structures. Mutable objects can be modified in-place, while immutable objects require the creation of new objects when changes are needed.\n",
    "\n",
    "Mutable Data Types:\n",
    "\n",
    "Mutable data types are those whose values can be modified after they are created.\n",
    "When you modify a mutable object, you are actually changing its contents in-place without creating a new object.\n",
    "Examples of mutable data types in Python include lists, sets, and dictionaries.\n",
    "\n",
    "Immutable Data Types:\n",
    "\n",
    "Immutable data types are those whose values cannot be changed once they are created.\n",
    "When you \"modify\" an immutable object, you are actually creating a new object with the modified value.\n",
    "Examples of immutable data types in Python include integers, floats, booleans, strings, and tuples."
   ]
  },
  {
   "cell_type": "raw",
   "id": "95e59acc",
   "metadata": {},
   "source": [
    "Q.9. Write a code to create the given structure using only for loop.\n",
    "\n",
    "      *\n",
    "     ***\n",
    "    *****\n",
    "   *******\n",
    "  *********"
   ]
  },
  {
   "cell_type": "code",
   "execution_count": 6,
   "id": "55aa4bb1",
   "metadata": {},
   "outputs": [
    {
     "name": "stdout",
     "output_type": "stream",
     "text": [
      "    *\n",
      "   ***\n",
      "  *****\n",
      " *******\n",
      "*********\n"
     ]
    }
   ],
   "source": [
    "#Ans: Below is the code\n",
    "\n",
    "rows = 5\n",
    "\n",
    "for i in range(rows):\n",
    "    for j in range(rows - i - 1):\n",
    "        print(\" \", end=\"\")\n",
    "    for k in range(2 * i + 1):\n",
    "        print(\"*\", end=\"\")\n",
    "    print()"
   ]
  },
  {
   "cell_type": "raw",
   "id": "eec046e8",
   "metadata": {},
   "source": [
    "Q.10. Write a code to create the given structure using while loop.\n",
    " |||||||||\n",
    "  |||||||\n",
    "   |||||\n",
    "    |||\n",
    "     |"
   ]
  },
  {
   "cell_type": "code",
   "execution_count": 8,
   "id": "b86c2a73",
   "metadata": {},
   "outputs": [
    {
     "name": "stdout",
     "output_type": "stream",
     "text": [
      "|||||||||\n",
      " |||||||\n",
      "  |||||\n",
      "   |||\n",
      "    |\n"
     ]
    }
   ],
   "source": [
    "#Ans: Below is the code\n",
    "\n",
    "rows = 5\n",
    "i = 0\n",
    "\n",
    "while i < rows:\n",
    "    # Print spaces before the bars\n",
    "    j = 0\n",
    "    while j < i:\n",
    "        print(\" \", end=\"\")\n",
    "        j += 1\n",
    "\n",
    "    # Print the bars\n",
    "    k = 0\n",
    "    while k < 2 * (rows - i) - 1:\n",
    "        print(\"|\", end=\"\")\n",
    "        k += 1\n",
    "\n",
    "    print()  # Move to the next line\n",
    "    i += 1"
   ]
  },
  {
   "cell_type": "code",
   "execution_count": null,
   "id": "1ef2f14d",
   "metadata": {},
   "outputs": [],
   "source": []
  },
  {
   "cell_type": "raw",
   "id": "deb8cb40",
   "metadata": {},
   "source": []
  },
  {
   "cell_type": "raw",
   "id": "25fe6f6c",
   "metadata": {},
   "source": []
  }
 ],
 "metadata": {
  "kernelspec": {
   "display_name": "Python 3 (ipykernel)",
   "language": "python",
   "name": "python3"
  },
  "language_info": {
   "codemirror_mode": {
    "name": "ipython",
    "version": 3
   },
   "file_extension": ".py",
   "mimetype": "text/x-python",
   "name": "python",
   "nbconvert_exporter": "python",
   "pygments_lexer": "ipython3",
   "version": "3.10.9"
  }
 },
 "nbformat": 4,
 "nbformat_minor": 5
}
