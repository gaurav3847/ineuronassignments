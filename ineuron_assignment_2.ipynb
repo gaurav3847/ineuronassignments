{
 "cells": [
  {
   "cell_type": "markdown",
   "id": "3553893d",
   "metadata": {},
   "source": [
    "# Assignment 2"
   ]
  },
  {
   "cell_type": "markdown",
   "id": "fddccf8d",
   "metadata": {},
   "source": [
    "1.What are the two values of the Boolean data type? How do you write them?"
   ]
  },
  {
   "cell_type": "raw",
   "id": "ff6fef84",
   "metadata": {},
   "source": [
    "Ans: In Python, the two values of the Boolean data type are \"True\" and \"False\". These values are commonly used in Python for logical operations, conditional statements, and boolean expressions to control the flow of programs and make decisions based on specific conditions.\n",
    "\n",
    "To write these Boolean values in Python, you would use the following:\n",
    "\n",
    "True\n",
    "False\n",
    "\n",
    "It is important to note that the boolead data type are to be written with the first alphabet as capital as these are case seisitive in python."
   ]
  },
  {
   "cell_type": "markdown",
   "id": "b0952f2d",
   "metadata": {},
   "source": [
    "2. What are the three different types of Boolean operators?"
   ]
  },
  {
   "cell_type": "raw",
   "id": "0b4e591d",
   "metadata": {},
   "source": [
    "Ans: The three different types of Boolean operators are:\n",
    "\n",
    "AND Operator: It returns \"True\" if both operands are true; otherwise, it returns \"False\".In Python, it is represented by the keyword \"and\".\n",
    "\n",
    "OR Operator: It returns \"True\" if at least one of the operands is true; if both operands are false, it returns \"False\". It is represented by the keyword \"or\".\n",
    "\n",
    "NOT Operator: It is a unary operator that returns the opposite of the operand's logical value. If the operand is \"True\", the NOT operator returns \"False\", and vice versa. It is represented by the keyword \"not\".\n",
    "\n",
    "These Boolean operators are commonly used to combine or manipulate Boolean values in logical expressions and conditions."
   ]
  },
  {
   "cell_type": "markdown",
   "id": "09bf1af0",
   "metadata": {},
   "source": [
    "3. Make a list of each Boolean operator's truth tables (i.e. every possible combination of Boolean values for the operator and what it evaluate )."
   ]
  },
  {
   "cell_type": "raw",
   "id": "2ed9a308",
   "metadata": {},
   "source": [
    "Ans: Below are the truth tables for each Boolean operator in Python:\n",
    "\n",
    "AND Operator (and):\n",
    "\n",
    "Operand 1 \tOperand 2   Output\n",
    " FALSE\t      FALSE\t    FALSE\n",
    " FALSE\t      TRUE\t    FALSE\n",
    " TRUE\t      TRUE\t    FALSE\n",
    " TRUE\t      TRUE\t    TRUE\n",
    "\n",
    "\n",
    "OR Operator (or):\n",
    "\n",
    "Operand 1   Operand 2   Result  \n",
    "  FALSE       FALSE     FALSE   \n",
    "  FALSE       TRUE      TRUE    \n",
    "  TRUE        FALSE     TRUE    \n",
    "  TRUE        TRUE      TRUE    \n",
    "\n",
    "NOT Operator (not):\n",
    "\n",
    "  Operand   Result   \n",
    "   FALSE    TRUE    \n",
    "   TRUE     FALSE   \n",
    "\n",
    "These truth tables illustrate the result of applying each Boolean operator to all possible combinations of Boolean values (True and False) in Python."
   ]
  },
  {
   "cell_type": "markdown",
   "id": "0e0df3c7",
   "metadata": {},
   "source": [
    "4. What are the values of the following expressions?\n",
    "(5 > 4) and (3 == 5)\n",
    "not (5 > 4)\n",
    "(5 > 4) or (3 == 5)\n",
    "not ((5 > 4) or (3 == 5))\n",
    "(True and True) and (True == False)\n",
    "(not False) or (not True)"
   ]
  },
  {
   "cell_type": "raw",
   "id": "eb9a9406",
   "metadata": {},
   "source": [
    "Ans: Below are the values of the given expressions.\n",
    "\n",
    "1. (5 > 4) and (3 == 5) ------>> FALSE\n",
    "\n",
    "2. not (5 > 4) ------>> FALSE\n",
    "\n",
    "3. (5 > 4) or (3 == 5)  ------>> TRUE\n",
    "\n",
    "4. not ((5 > 4) or (3 == 5)) ------->> FALSE\n",
    "\n",
    "5. (True and True) and (True == False) ------->> FALSE\n",
    "\n",
    "6. (not False) or (not True) ------>> TRUE\n",
    "\n",
    "7. "
   ]
  },
  {
   "cell_type": "markdown",
   "id": "e0ef7f68",
   "metadata": {},
   "source": [
    "5. What are the six comparison operators?"
   ]
  },
  {
   "cell_type": "raw",
   "id": "16e1046f",
   "metadata": {},
   "source": [
    "Ans: \n",
    "\n",
    "In Python, the six comparison operators are:\n",
    "\n",
    "1. Equal to (==): Compares if two values are equal and returns True if they are, False otherwise.\n",
    "\n",
    "2. Not equal to (!=): Checks if two values are not equal and returns True if they are not, False otherwise.\n",
    "\n",
    "3. Greater than (>): Determines if the value on the left is greater than the value on the right and returns True if it is, False otherwise.\n",
    "\n",
    "4. Less than (<): Determines if the value on the left is less than the value on the right and returns True if it is, False otherwise.\n",
    "\n",
    "5. Greater than or equal to (>=): Checks if the value on the left is greater than or equal to the value on the right and returns True if it is, False otherwise.\n",
    "\n",
    "6. Less than or equal to (<=): Checks if the value on the left is less than or equal to the value on the right and returns True if it is, False otherwise.\n",
    "\n",
    "These operators are used to compare values and return boolean results based on the comparison."
   ]
  },
  {
   "cell_type": "markdown",
   "id": "d22b7298",
   "metadata": {},
   "source": [
    "6. How do you tell the difference between the equal to and assignment operators?Describe a condition and when you would use one."
   ]
  },
  {
   "cell_type": "raw",
   "id": "9987ef10",
   "metadata": {},
   "source": [
    ".Ans: \n",
    "The equal to operator (==) and the assignment operator (=) serve different purposes in Python.\n",
    "\n",
    "The basic difference between the equal to operator (==) and the assignment operator (=), is that the equal to operator is used in comparisons, while the assignment operator is used to assign values to variables.\n",
    "\n",
    "Equal to operator (==): The equal to operator is used for comparison. It checks whether the values on both sides of the operator are equal. It returns True if the values are equal and False otherwise. It is used in conditions and expressions to compare values.\n",
    "\n",
    "Example:\n",
    "\n",
    "x = 5\n",
    "y = 10\n",
    "\n",
    "if x == y:\n",
    "    print(\"x is equal to y\")\n",
    "else:\n",
    "    print(\"x is not equal to y\")\n",
    "    \n",
    "In the above example, the == operator compares the values of x and y to determine if they are equal.\n",
    "\n",
    "Assignment operator (=): The assignment operator is used to assign a value to a variable. It assigns the value on the right side of the operator to the variable on the left side. It does not perform a comparison, but rather updates the variable with a new value.\n",
    "\n",
    "Example:\n",
    "\n",
    "x = 5\n",
    "y = x\n",
    "\n",
    "print(\"The value of x is:\", x)\n",
    "print(\"The value of y is:\", y)\n",
    "\n",
    "In the above example, the = operator assigns the value of x to y, making y equal to 5."
   ]
  },
  {
   "cell_type": "markdown",
   "id": "67b8ad64",
   "metadata": {},
   "source": [
    "7. Identify the three blocks in this code:\n",
    "spam = 0\n",
    "if spam == 10:\n",
    "print('eggs')\n",
    "if spam > 5:\n",
    "print('bacon')\n",
    "else:\n",
    "print('ham')\n",
    "print('spam')\n",
    "print('spam')\n"
   ]
  },
  {
   "cell_type": "raw",
   "id": "48a4b9f5",
   "metadata": {},
   "source": [
    "Ans: \n",
    "The code has three blocks which are explained below.\n",
    "\n",
    "spam = 0\n",
    "\n",
    "if spam == 10:\n",
    "    print('eggs')\n",
    "if spam > 5:\n",
    "    print('bacon')\n",
    "else:\n",
    "    print('ham')\n",
    "    print('spam')\n",
    "    print('spam')\n",
    "    \n",
    "The three identified blocks in this code are:\n",
    "\n",
    "Block 1:\n",
    "\n",
    "if spam == 10:\n",
    "    print('eggs')\n",
    "    \n",
    "This block consists of the if statement, which checks if the value of spam is equal to 10. If the condition is true, it executes the indented code, which is print('eggs').\n",
    "\n",
    "Block 2:\n",
    "\n",
    "if spam > 5:\n",
    "    print('bacon')\n",
    "    \n",
    "This block also starts with an if statement, checking if the value of spam is greater than 5. If the condition is true, it executes the indented code, which is print('bacon').\n",
    "\n",
    "Block 3:\n",
    "\n",
    "else:\n",
    "    print('ham')\n",
    "This block is associated with the else statement, which is part of the previous if statement. If the condition in the previous if statement (Block 2) is false, this block is executed and print('ham') is executed.\n",
    "\n",
    "The remaining print('spam') statements are not part of any block. They are executed sequentially after the previous blocks."
   ]
  },
  {
   "cell_type": "markdown",
   "id": "c568f14b",
   "metadata": {},
   "source": [
    "8. Write code that prints Hello if 1 is stored in spam, prints Howdy if 2 is stored in spam, and prints Greetings! if anything else is stored in spam."
   ]
  },
  {
   "cell_type": "raw",
   "id": "5be99472",
   "metadata": {},
   "source": [
    "Ans \n",
    "\n",
    "Below is  the code.\n",
    "\n",
    "spam = 1 #or any assigned value\n",
    "\n",
    "if spam == 1:\n",
    "    print('Hello')\n",
    "    \n",
    "elif spam == 2:\n",
    "    print('Howdy')\n",
    "    \n",
    "else:\n",
    "    print('Greetings!')\n"
   ]
  },
  {
   "cell_type": "markdown",
   "id": "0074be40",
   "metadata": {},
   "source": [
    "9.If your programme is stuck in an endless loop, what keys you’ll press?"
   ]
  },
  {
   "cell_type": "raw",
   "id": "1971f55e",
   "metadata": {},
   "source": [
    "Ans: \n",
    "\n",
    "If a program is stuck in an endless loop and you want to interrupt its execution, you can press the following keys depending on the OS.\n",
    "\n",
    "Windows/Linux: Ctrl + C\n",
    "macOS: Command + C\n",
    "\n",
    "Pressing these key combinations sends an interrupt signal to the running program, causing it to terminate and break out of the loop. This can be used if a program is taking longer than expected to execute or is stuck in an infinite loop."
   ]
  },
  {
   "cell_type": "markdown",
   "id": "7b1016ea",
   "metadata": {},
   "source": [
    "10. How can you tell the difference between break and continue?"
   ]
  },
  {
   "cell_type": "raw",
   "id": "c84f4a71",
   "metadata": {},
   "source": [
    "Ans: \n",
    "\n",
    "In Python, break and continue are two different control flow statements used in loops (such as for and while) to alter the flow of execution.\n",
    "\n",
    "While break terminates the loop entirely,continue skips the remaining code within the loop for the current iteration and moves to the next iteration.These statements serve different purposes and can be used to control the flow of execution within loops based on specific conditions or requirements.\n",
    "\n",
    "break statement: The break statement is used to terminate the loop prematurely. When encountered within a loop, break immediately exits the loop, and the program continues with the next statement after the loop. It completely breaks out of the loop's execution.\n",
    "\n",
    "Example:\n",
    "\n",
    "for i in range(1, 6):\n",
    "    if i == 3:\n",
    "        break\n",
    "    print(i)\n",
    "\n",
    "Output:\n",
    "1\n",
    "2\n",
    "\n",
    "In the above example, when i becomes 3, the break statement is executed, causing the loop to terminate immediately.\n",
    "\n",
    "continue statement: The continue statement is used to skip the remaining code within a loop for the current iteration and move to the next iteration. When encountered, it stops the current iteration and proceeds with the next iteration of the loop.\n",
    "\n",
    "Example:\n",
    "\n",
    "for i in range(1, 6):\n",
    "    if i == 3:\n",
    "        continue\n",
    "    print(i)\n",
    "\n",
    "Output:\n",
    "\n",
    "1\n",
    "2\n",
    "4\n",
    "5\n",
    "\n",
    "In the above example, when i becomes 3, the continue statement is executed. This skips the print(i) statement for that iteration and moves on to the next iteration."
   ]
  },
  {
   "cell_type": "markdown",
   "id": "d5f0ec7e",
   "metadata": {},
   "source": [
    "11. In a for loop, what is the difference between range(10), range(0, 10), and range(0, 10, 1)?"
   ]
  },
  {
   "cell_type": "raw",
   "id": "ad12dbe9",
   "metadata": {},
   "source": [
    "In a for loop, range(10), range(0, 10), and range(0, 10, 1) produce the same result and iterate over the numbers from 0 to 9. The three forms of range() have slightly different syntax, but they function the same in this scenario.\n",
    "\n",
    "range(10): This form specifies the stop value of the range, which is 10 in this case. By default, the start value is 0, and the step value is 1. The resulting range will include numbers from 0 to 9 (10 is excluded).\n",
    "\n",
    "Example:\n",
    "\n",
    "for i in range(10):\n",
    "    print(i)\n",
    "Output:\n",
    "\n",
    "\n",
    "0\n",
    "1\n",
    "2\n",
    "3\n",
    "4\n",
    "5\n",
    "6\n",
    "7\n",
    "8\n",
    "9\n",
    "\n",
    "range(0, 10): This form specifies both the start and stop values of the range. The range will include numbers starting from the start value (0) and ending at the stop value (10 is excluded), with a default step value of 1.\n",
    "\n",
    "Example:\n",
    "\n",
    "for i in range(0, 10):\n",
    "    print(i)\n",
    "\n",
    "Output:\n",
    "\n",
    "\n",
    "0\n",
    "1\n",
    "2\n",
    "3\n",
    "4\n",
    "5\n",
    "6\n",
    "7\n",
    "8\n",
    "9\n",
    "\n",
    "range(0, 10, 1): This form specifies the start, stop, and step values explicitly. The range will include numbers starting from the start value (0) and ending at the stop value (10 is excluded), incrementing by the step value (1 in this case).\n",
    "\n",
    "Example:\n",
    "\n",
    "for i in range(0, 10, 1):\n",
    "    print(i)\n",
    "\n",
    "Output:\n",
    "\n",
    "\n",
    "0\n",
    "1\n",
    "2\n",
    "3\n",
    "4\n",
    "5\n",
    "6\n",
    "7\n",
    "8\n",
    "9\n",
    "\n",
    "All three forms (range(10), range(0, 10), and range(0, 10, 1)) will produce the same sequence of numbers from 0 to 9. They differ only in syntax but result in the same iteration behavior within a for loop."
   ]
  },
  {
   "cell_type": "markdown",
   "id": "9751f996",
   "metadata": {},
   "source": [
    "12. Write a short program that prints the numbers 1 to 10 using a for loop. \n",
    "Then write an equivalent program that prints the numbers 1 to 10 using a while loop."
   ]
  },
  {
   "cell_type": "raw",
   "id": "fd6537a8",
   "metadata": {},
   "source": [
    "Ans: \n",
    "\n",
    "Below are the two programs to print the given output.\n",
    "\n",
    "1. With for loop:\n",
    "    \n",
    "for i in range (1,11):\n",
    "    print(i)\n",
    "\n",
    "2. With while loop:\n",
    "    \n",
    "i = 1\n",
    "while i < 11:\n",
    "    print(i)\n",
    "    i+=1"
   ]
  },
  {
   "cell_type": "markdown",
   "id": "195d98bc",
   "metadata": {},
   "source": [
    "13. If you had a function named bacon() inside a module named spam, how would you call it after importing spam?"
   ]
  },
  {
   "cell_type": "raw",
   "id": "a7b0df7d",
   "metadata": {},
   "source": [
    "Ans: \n",
    "After importing the module spam, we can call the function bacon() using a dot to reference the function within the module.\n",
    "Below is an example.\n",
    "\n",
    "import spam\n",
    "\n",
    "spam.bacon()\n",
    "\n",
    "In the code above, spam is the name of the imported module, and bacon() is the function within that module. \n",
    "By prefixing the function name with the module name and a dot (spam.bacon()), you can access and call the bacon() function."
   ]
  }
 ],
 "metadata": {
  "kernelspec": {
   "display_name": "Python 3 (ipykernel)",
   "language": "python",
   "name": "python3"
  },
  "language_info": {
   "codemirror_mode": {
    "name": "ipython",
    "version": 3
   },
   "file_extension": ".py",
   "mimetype": "text/x-python",
   "name": "python",
   "nbconvert_exporter": "python",
   "pygments_lexer": "ipython3",
   "version": "3.10.9"
  }
 },
 "nbformat": 4,
 "nbformat_minor": 5
}
