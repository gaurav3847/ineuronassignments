{
 "cells": [
  {
   "cell_type": "markdown",
   "id": "3553893d",
   "metadata": {},
   "source": [
    "# Assignment 7"
   ]
  },
  {
   "cell_type": "markdown",
   "id": "fddccf8d",
   "metadata": {},
   "source": [
    "Q.1. Create two int type variables, apply addition, subtraction, division and multiplications\n",
    "and store the results in variables. Then print the data in the following format by calling the\n",
    "variables:\n",
    "\n",
    "First variable is __ & second variable is __.\n",
    "\n",
    "Addition: __ + __ = __\n",
    "\n",
    "Subtraction: __ - __ = __\n",
    "\n",
    "Multiplication: __ * __ = __\n",
    "\n",
    "Division: __ / __ = __"
   ]
  },
  {
   "cell_type": "code",
   "execution_count": 28,
   "id": "06469501",
   "metadata": {},
   "outputs": [
    {
     "name": "stdout",
     "output_type": "stream",
     "text": [
      "first variable is 4 and second variable is 2\n",
      "Addition: 4 + 2 = 6\n",
      "Subtraction: 4 - 2 = 2\n",
      "Multiplication: 4 * 2 = 8\n",
      "Division: 4 / 2 = 2.0\n"
     ]
    }
   ],
   "source": [
    "#Ans: Below is the code.\n",
    "\n",
    "#declaring variables\n",
    "\n",
    "variable_1 = 4\n",
    "variable_2 = 2\n",
    "\n",
    "#collecting results\n",
    "\n",
    "addition = variable_1 + variable_2\n",
    "subtraction = variable_1 - variable_2\n",
    "multiplication = variable_1 * variable_2\n",
    "division = variable_1 / variable_2\n",
    "\n",
    "#printing results\n",
    "\n",
    "print(f\"first variable is {variable_1} and second variable is {variable_2}\")\n",
    "print(f\"Addition: {variable_1} + {variable_2} = {addition}\")\n",
    "print(f\"Subtraction: {variable_1} - {variable_2} = {subtraction}\")\n",
    "print(f\"Multiplication: {variable_1} * {variable_2} = {multiplication}\")\n",
    "print(f\"Division: {variable_1} / {variable_2} = {division}\")\n",
    "\n"
   ]
  },
  {
   "cell_type": "markdown",
   "id": "b0952f2d",
   "metadata": {},
   "source": [
    "Q.2. What is the difference between the following operators:\n",
    "\n",
    "(i) ‘/’ & ‘//’\n",
    "\n",
    "(ii) ‘**’ & ‘^’"
   ]
  },
  {
   "cell_type": "markdown",
   "id": "2c59f046",
   "metadata": {},
   "source": [
    "Ans: \n",
    "\n",
    "/ and //:\n",
    "\n",
    "/ performs regular division and returns a float result.\n",
    "// performs floor division and returns an integer result, rounded down to the nearest whole number.\n",
    "\n",
    "/: This is the regular division operator. It performs division and returns a floating-point (decimal) result. It is used for precise division and can produce non-integer results.\n",
    "\n",
    "\n",
    "result = 7 / 2\n",
    "print(result)  # Output: 3.5\n",
    "\n",
    "//: This is the floor division operator. It performs division and returns the quotient as an integer, rounded down to the nearest whole number. It discards the decimal part of the result, effectively providing the floor value of the division.\n",
    "\n",
    "result = 7 // 2\n",
    "print(result)  # Output: 3\n",
    "\n",
    "** and ^:\n",
    "\n",
    "** is the exponentiation operator and raises a number to a power.\n",
    "^ is the bitwise XOR operator and performs bitwise exclusive OR between two integers\n",
    "\n",
    "\n",
    "** is the exponentiation operator and raises a number to a power. For example, a ** b means raising a to the power of b.\n",
    "\n",
    "result = 2 ** 3\n",
    "print(result)  # Output: 8\n",
    "\n",
    "^: This is the bitwise XOR operator. It performs a bitwise exclusive OR operation between two integers. It compares the corresponding bits of two operands and produces a new integer where each bit is the result of the XOR operation.\n",
    "\n",
    "result = 5 ^ 3\n",
    "print(result)  # Output: 6\n",
    "\n",
    "In binary, 5 is 0101, and 3 is 0011. The XOR operation for each pair of bits gives 0110, which is 6 in decimal."
   ]
  },
  {
   "cell_type": "markdown",
   "id": "09bf1af0",
   "metadata": {},
   "source": [
    "Q.3. List the logical operators."
   ]
  },
  {
   "cell_type": "markdown",
   "id": "af35a05a",
   "metadata": {},
   "source": [
    "Ans: \n",
    "\n",
    "In Python, there are three logical operators used to perform logical operations between two or more expressions. These operators return a boolean value (True or False) based on the truth values of the expressions being evaluated. The logical operators in Python are:\n",
    "\n",
    "and: The logical AND operator returns True if both expressions on the left and right sides are True. Otherwise, it returns False.\n",
    "\n",
    "or: The logical OR operator returns True if at least one of the expressions on the left and right sides is True. It returns False only when both expressions are False.\n",
    "\n",
    "not: The logical NOT operator is a unary operator that negates the truth value of the expression. It returns True if the expression is False, and False if the expression is True.\n",
    "\n",
    "Below is a table with examples\n",
    "\n",
    "Operator\tDescription\t       Example\t   Result\n",
    "\n",
    "and\t        Logical AND\t   True  and True\tTrue\n",
    "                           True  and False\tFalse\n",
    "                           False and True\tFalse\n",
    "                           False and False\tFalse\n",
    "or\t        Logical OR\t    True  or True\tTrue\n",
    "                            True  or False\tTrue\n",
    "                            False or True\tTrue\n",
    "                            False or False\tFalse\n",
    "not         Logical NOT\t       not True\t    False\n",
    "                               not False\tTrue\n"
   ]
  },
  {
   "cell_type": "markdown",
   "id": "0e0df3c7",
   "metadata": {},
   "source": [
    "Q.4. Explain right shift operator and left shift operator with examples."
   ]
  },
  {
   "cell_type": "markdown",
   "id": "be98e152",
   "metadata": {},
   "source": [
    "Ans: \n",
    "\n",
    "In Python, the right shift (>>) and left shift (<<) operators are used for bitwise operations. These operators allows to shift the bits of an integer to the right or left by a specified number of positions. The left shift operator adds zeros at the rightmost positions, while the right shift operator discards the rightmost bits.\n",
    "\n",
    "Left Shift Operator (<<):\n",
    "The left shift operator (<<) moves the bits of an integer to the left by a specified number of positions. It effectively multiplies the integer by 2 raised to the power of the specified number of positions.\n",
    "\n",
    "Syntax: value << n\n",
    "\n",
    "Example:\n",
    "\n",
    "x = 10  # Binary representation: 1010\n",
    "\n",
    "# Left shift x by 2 positions\n",
    "result = x << 2  # Binary representation: 101000\n",
    "\n",
    "print(result)  # Output: 40\n",
    "In this example, the binary representation of 10 is 1010. Left shifting 10 by 2 positions gives 101000, which is equivalent to 40 in decimal.\n",
    "\n",
    "Right Shift Operator (>>):\n",
    "The right shift operator (>>) moves the bits of an integer to the right by a specified number of positions. It effectively performs integer division by 2 raised to the power of the specified number of positions.\n",
    "\n",
    "Syntax: value >> n\n",
    "\n",
    "Example:\n",
    "\n",
    "\n",
    "y = 32  # Binary representation: 100000\n",
    "\n",
    "# Right shift y by 3 positions\n",
    "result = y >> 3  # Binary representation: 100\n",
    "\n",
    "print(result)  # Output: 4\n",
    "In this example, the binary representation of 32 is 100000. Right shifting 32 by 3 positions gives 100, which is equivalent to 4 in decimal.\n"
   ]
  },
  {
   "cell_type": "markdown",
   "id": "e0ef7f68",
   "metadata": {},
   "source": [
    "Q.5. Create a list containing int type data of length 15. Then write a code to check if 10 is\n",
    "present in the list or not."
   ]
  },
  {
   "cell_type": "code",
   "execution_count": 39,
   "id": "681d6f9a",
   "metadata": {},
   "outputs": [
    {
     "name": "stdout",
     "output_type": "stream",
     "text": [
      "the length of the list is 15\n",
      "10 present in the list\n"
     ]
    }
   ],
   "source": [
    "#Ans: Below is the code.\n",
    "\n",
    "#to create a list \n",
    "\n",
    "list_int = [1,2,3,4,5,6,7,8,9,10,11,12,13,14,15]\n",
    "\n",
    "#to check  the length of the list\n",
    "\n",
    "print(f\"the length of the list is {len(list_int)}\")\n",
    "\n",
    "# to check the condition if 10 is in the list or not\n",
    "\n",
    "if 10 in list_int:\n",
    "    print(f\"10 present in the list\")\n",
    "else:\n",
    "    print(f\"10 not present in the list\")"
   ]
  },
  {
   "cell_type": "markdown",
   "id": "d22b7298",
   "metadata": {},
   "source": []
  },
  {
   "cell_type": "raw",
   "id": "ca6f2a83",
   "metadata": {},
   "source": []
  },
  {
   "cell_type": "markdown",
   "id": "67b8ad64",
   "metadata": {},
   "source": []
  },
  {
   "cell_type": "raw",
   "id": "586a3aa8",
   "metadata": {},
   "source": []
  },
  {
   "cell_type": "markdown",
   "id": "c568f14b",
   "metadata": {},
   "source": [
    "    "
   ]
  },
  {
   "cell_type": "raw",
   "id": "11dbc311",
   "metadata": {},
   "source": []
  },
  {
   "cell_type": "raw",
   "id": "bcdb7a02",
   "metadata": {},
   "source": []
  },
  {
   "cell_type": "code",
   "execution_count": null,
   "id": "45be2119",
   "metadata": {
    "scrolled": true
   },
   "outputs": [],
   "source": []
  },
  {
   "cell_type": "raw",
   "id": "eec046e8",
   "metadata": {},
   "source": []
  },
  {
   "cell_type": "code",
   "execution_count": null,
   "id": "30602324",
   "metadata": {},
   "outputs": [],
   "source": [
    "    "
   ]
  },
  {
   "cell_type": "code",
   "execution_count": null,
   "id": "66ce3822",
   "metadata": {},
   "outputs": [],
   "source": []
  },
  {
   "cell_type": "raw",
   "id": "deb8cb40",
   "metadata": {},
   "source": []
  },
  {
   "cell_type": "raw",
   "id": "25fe6f6c",
   "metadata": {},
   "source": []
  }
 ],
 "metadata": {
  "kernelspec": {
   "display_name": "Python 3 (ipykernel)",
   "language": "python",
   "name": "python3"
  },
  "language_info": {
   "codemirror_mode": {
    "name": "ipython",
    "version": 3
   },
   "file_extension": ".py",
   "mimetype": "text/x-python",
   "name": "python",
   "nbconvert_exporter": "python",
   "pygments_lexer": "ipython3",
   "version": "3.10.9"
  }
 },
 "nbformat": 4,
 "nbformat_minor": 5
}
